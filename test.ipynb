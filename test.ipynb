{
 "cells": [
  {
   "cell_type": "markdown",
   "metadata": {},
   "source": [
    "### TESTING CLASSES"
   ]
  },
  {
   "cell_type": "code",
   "execution_count": 1,
   "metadata": {},
   "outputs": [],
   "source": [
    "import numpy as np"
   ]
  },
  {
   "cell_type": "code",
   "execution_count": 22,
   "metadata": {},
   "outputs": [],
   "source": [
    "class planets:\n",
    "    \"\"\"_Defines a set of parameters for planets in our solar system_\n",
    "\n",
    "    Args:\n",
    "        name (_type_): _name of the planet_\n",
    "        depth (_type_): _transit depth in ppm_\n",
    "        duration (_type_): _transit duration in hours_\n",
    "        number (_type_): _number of transits_\n",
    "    \"\"\"\n",
    "    def __init__(self, name, depth, duration, number=3):\n",
    "        super().__init__()\n",
    "        \n",
    "        self.name = name\n",
    "        self.depth = depth\n",
    "        self.duration = duration\n",
    "        self.number = number\n",
    "        \n",
    "    def noise_level(self, eta=7.1):\n",
    "        \"\"\"_Function that implements equation 23 in Marchiori et al (2019) paper_\n",
    "\n",
    "        Args:\n",
    "            eta (float, optional): _Statistical significance value adopted for PLATO_. Defaults to 7.1.\n",
    "\n",
    "        Returns:\n",
    "            _nsr_: _noise level of the planet transit signal at detector level_\n",
    "        \"\"\"\n",
    "        nsr = self.depth * np.sqrt(self.duration * self.number) / eta\n",
    "        return nsr\n",
    "    \n",
    "    def is_detectable(self, nsr, nsr_plato = 80):\n",
    "        if nsr > nsr_plato:\n",
    "            return print('Detectable planet')\n",
    "        else:\n",
    "            return print('Non detectable planet')"
   ]
  },
  {
   "cell_type": "code",
   "execution_count": 23,
   "metadata": {},
   "outputs": [],
   "source": [
    "earth = planets('Earth', 84, 13)"
   ]
  },
  {
   "cell_type": "code",
   "execution_count": 24,
   "metadata": {},
   "outputs": [
    {
     "data": {
      "text/plain": [
       "'Earth'"
      ]
     },
     "execution_count": 24,
     "metadata": {},
     "output_type": "execute_result"
    }
   ],
   "source": [
    "earth.name"
   ]
  },
  {
   "cell_type": "code",
   "execution_count": 25,
   "metadata": {},
   "outputs": [
    {
     "data": {
      "text/plain": [
       "84"
      ]
     },
     "execution_count": 25,
     "metadata": {},
     "output_type": "execute_result"
    }
   ],
   "source": [
    "earth.depth"
   ]
  },
  {
   "cell_type": "code",
   "execution_count": 26,
   "metadata": {},
   "outputs": [
    {
     "data": {
      "text/plain": [
       "13"
      ]
     },
     "execution_count": 26,
     "metadata": {},
     "output_type": "execute_result"
    }
   ],
   "source": [
    "earth.duration"
   ]
  },
  {
   "cell_type": "code",
   "execution_count": 27,
   "metadata": {},
   "outputs": [
    {
     "data": {
      "text/plain": [
       "73.88448336133317"
      ]
     },
     "execution_count": 27,
     "metadata": {},
     "output_type": "execute_result"
    }
   ],
   "source": [
    "earth.noise_level()"
   ]
  },
  {
   "cell_type": "code",
   "execution_count": 28,
   "metadata": {},
   "outputs": [
    {
     "name": "stdout",
     "output_type": "stream",
     "text": [
      "Non detectable planet\n"
     ]
    }
   ],
   "source": [
    "earth.is_detectable(earth.noise_level())"
   ]
  },
  {
   "cell_type": "code",
   "execution_count": null,
   "metadata": {},
   "outputs": [],
   "source": []
  }
 ],
 "metadata": {
  "kernelspec": {
   "display_name": "codeastro",
   "language": "python",
   "name": "python3"
  },
  "language_info": {
   "codemirror_mode": {
    "name": "ipython",
    "version": 3
   },
   "file_extension": ".py",
   "mimetype": "text/x-python",
   "name": "python",
   "nbconvert_exporter": "python",
   "pygments_lexer": "ipython3",
   "version": "3.10.11"
  },
  "orig_nbformat": 4
 },
 "nbformat": 4,
 "nbformat_minor": 2
}
