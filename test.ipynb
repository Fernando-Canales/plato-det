{
 "cells": [
  {
   "attachments": {},
   "cell_type": "markdown",
   "metadata": {},
   "source": [
    "### TESTING CLASSES"
   ]
  },
  {
   "cell_type": "code",
   "execution_count": 1,
   "metadata": {},
   "outputs": [
    {
     "name": "stdout",
     "output_type": "stream",
     "text": [
      "Intel MKL WARNING: Support of Intel(R) Streaming SIMD Extensions 4.2 (Intel(R) SSE4.2) enabled only processors has been deprecated. Intel oneAPI Math Kernel Library 2025.0 will require Intel(R) Advanced Vector Extensions (Intel(R) AVX) instructions.\n",
      "Intel MKL WARNING: Support of Intel(R) Streaming SIMD Extensions 4.2 (Intel(R) SSE4.2) enabled only processors has been deprecated. Intel oneAPI Math Kernel Library 2025.0 will require Intel(R) Advanced Vector Extensions (Intel(R) AVX) instructions.\n"
     ]
    }
   ],
   "source": [
    "import numpy as np"
   ]
  },
  {
   "cell_type": "code",
   "execution_count": 2,
   "metadata": {},
   "outputs": [],
   "source": [
    "class planets:\n",
    "    \"\"\"_Defines a set of parameters for planets in our solar system_\n",
    "\n",
    "    Args:\n",
    "        name (_type_): _name of the planet_\n",
    "        depth (_type_): _transit depth in ppm_\n",
    "        duration (_type_): _transit duration in hours_\n",
    "        number (_type_): _number of transits_\n",
    "    \"\"\"\n",
    "    def __init__(self, name, depth, duration, number=3):\n",
    "        \"\"\"\n",
    "        name (str): _name of the planet_\n",
    "        depth (int): _transit depth in parts per million(ppm)_\n",
    "        duration (int): _transit duration in hours_\n",
    "        number (int): _number of transits_\n",
    "        \"\"\"\n",
    "        super().__init__()\n",
    "        \n",
    "        self.name = name\n",
    "        self.depth = depth\n",
    "        self.duration = duration\n",
    "        self.number = number\n",
    "        \n",
    "    def noise_level(self, eta=7.1):\n",
    "        \"\"\"_Function that implements equation 23 in Marchiori et al (2019) paper_\n",
    "\n",
    "        Args:\n",
    "            eta (float, optional): _Statistical significance value adopted for PLATO_. Defaults to 7.1.\n",
    "\n",
    "        Returns:\n",
    "            _nsr_: _noise level of the planet transit signal at detector level_\n",
    "        \"\"\"\n",
    "        nsr = self.depth * np.sqrt(self.duration * self.number) / eta\n",
    "        return nsr\n",
    "    \n",
    "    def is_detectable(self, nsr, nsr_plato = 80):\n",
    "        \"\"\"\n",
    "        nsr (int): _int value from .noise_level function_\n",
    "        \n",
    "        \"\"\"\n",
    "        if nsr > nsr_plato:\n",
    "            return print('Detectable planet')\n",
    "        else:\n",
    "            return print('Non detectable planet')"
   ]
  },
  {
   "cell_type": "code",
   "execution_count": 3,
   "metadata": {},
   "outputs": [],
   "source": [
    "earth = planets('Earth', 84, 13)"
   ]
  },
  {
   "cell_type": "code",
   "execution_count": 4,
   "metadata": {},
   "outputs": [
    {
     "data": {
      "text/plain": [
       "'Earth'"
      ]
     },
     "execution_count": 4,
     "metadata": {},
     "output_type": "execute_result"
    }
   ],
   "source": [
    "earth.name"
   ]
  },
  {
   "cell_type": "code",
   "execution_count": 5,
   "metadata": {},
   "outputs": [
    {
     "data": {
      "text/plain": [
       "84"
      ]
     },
     "execution_count": 5,
     "metadata": {},
     "output_type": "execute_result"
    }
   ],
   "source": [
    "earth.depth"
   ]
  },
  {
   "cell_type": "code",
   "execution_count": 6,
   "metadata": {},
   "outputs": [
    {
     "data": {
      "text/plain": [
       "13"
      ]
     },
     "execution_count": 6,
     "metadata": {},
     "output_type": "execute_result"
    }
   ],
   "source": [
    "earth.duration"
   ]
  },
  {
   "cell_type": "code",
   "execution_count": 7,
   "metadata": {},
   "outputs": [
    {
     "data": {
      "text/plain": [
       "73.88448336133317"
      ]
     },
     "execution_count": 7,
     "metadata": {},
     "output_type": "execute_result"
    }
   ],
   "source": [
    "earth.noise_level()"
   ]
  },
  {
   "cell_type": "code",
   "execution_count": 8,
   "metadata": {},
   "outputs": [
    {
     "name": "stdout",
     "output_type": "stream",
     "text": [
      "Non detectable planet\n"
     ]
    }
   ],
   "source": [
    "earth.is_detectable(earth.noise_level())"
   ]
  },
  {
   "cell_type": "code",
   "execution_count": null,
   "metadata": {},
   "outputs": [],
   "source": []
  }
 ],
 "metadata": {
  "kernelspec": {
   "display_name": "codeastro",
   "language": "python",
   "name": "python3"
  },
  "language_info": {
   "codemirror_mode": {
    "name": "ipython",
    "version": 3
   },
   "file_extension": ".py",
   "mimetype": "text/x-python",
   "name": "python",
   "nbconvert_exporter": "python",
   "pygments_lexer": "ipython3",
   "version": "3.10.11"
  },
  "orig_nbformat": 4
 },
 "nbformat": 4,
 "nbformat_minor": 2
}
